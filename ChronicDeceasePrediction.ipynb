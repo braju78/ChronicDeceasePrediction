{
 "cells": [
  {
   "cell_type": "code",
   "execution_count": null,
   "metadata": {},
   "outputs": [],
   "source": [
    "# === STEP 1: Imports ===\r\n",
    "import pandas as pd\r\n",
    "import numpy as np\r\n",
    "from datetime import timedelta\r\n",
    "from sklearn.model_selection import train_test_split\r\n",
    "from sklearn.metrics import roc_auc_score, classification_report\r\n",
    "import lightgbm as lgb\r\n",
    "\r\n",
    "# === STEP 2: Load Data ===\r\n",
    "claims = pd.read_csv(\"claims_data.csv\")  # Columns: member_id, service_date, diagnosis_code, gender, dob\r\n",
    "\r\n"
   ]
  },
  {
   "cell_type": "code",
   "execution_count": null,
   "metadata": {},
   "outputs": [],
   "source": [
    "\r\n",
    "# === STEP 3: Preprocess Dates & Demographics ===\r\n",
    "claims['service_date'] = pd.to_datetime(claims['service_date'])\r\n",
    "claims['dob'] = pd.to_datetime(claims['dob'])\r\n",
    "claims['age'] = (claims['service_date'] - claims['dob']).dt.days // 365\r\n",
    "\r\n",
    "# Optional: cap age\r\n",
    "claims = claims[claims['age'] < 100]\r\n"
   ]
  },
  {
   "cell_type": "code",
   "execution_count": null,
   "metadata": {},
   "outputs": [],
   "source": [
    "# === STEP 4: Define Chronic Condition (Label) ===\r\n",
    "# Use a dictionary of ICD-10 codes for a condition, e.g., Diabetes\r\n",
    "DIABETES_CODES = {'E08', 'E09', 'E10', 'E11', 'E13'}\r\n",
    "\r\n",
    "def has_diabetes(code):\r\n",
    "    return any(code.startswith(d) for d in DIABETES_CODES)\r\n",
    "\r\n",
    "claims['has_diabetes'] = claims['diagnosis_code'].apply(has_diabetes)\r\n"
   ]
  },
  {
   "cell_type": "code",
   "execution_count": null,
   "metadata": {},
   "outputs": [],
   "source": [
    "# === STEP 5: Create Prediction Windows ===\r\n",
    "# Define observation and prediction windows\r\n",
    "obs_window_months = 12\r\n",
    "pred_window_months = 6\r\n",
    "\r\n",
    "# Get minimum service date per member\r\n",
    "min_dates = claims.groupby('member_id')['service_date'].min().reset_index()\r\n",
    "min_dates.columns = ['member_id', 'min_service_date']\r\n",
    "\r\n",
    "# Merge to get index date per member\r\n",
    "claims = claims.merge(min_dates, on='member_id')\r\n",
    "claims['index_date'] = claims['min_service_date'] + pd.DateOffset(months=obs_window_months)\r\n",
    "\r\n",
    "# Filter claims in obs or pred window\r\n",
    "claims['in_obs_window'] = claims['service_date'] <= claims['index_date']\r\n",
    "claims['in_pred_window'] = (claims['service_date'] > claims['index_date']) & (\r\n",
    "    claims['service_date'] <= claims['index_date'] + pd.DateOffset(months=pred_window_months))"
   ]
  },
  {
   "cell_type": "code",
   "execution_count": null,
   "metadata": {},
   "outputs": [],
   "source": [
    "# === STEP 6: Feature Engineering ===\r\n",
    "# For each member, count diagnosis codes in observation window\r\n",
    "obs_claims = claims[claims['in_obs_window']]\r\n",
    "\r\n",
    "# Create a pivot table of diagnosis frequencies\r\n",
    "dx_counts = obs_claims.groupby(['member_id', 'diagnosis_code']).size().unstack(fill_value=0)\r\n",
    "demographics = obs_claims.groupby('member_id')[['age', 'gender']].first()\r\n",
    "\r\n",
    "features = demographics.join(dx_counts)"
   ]
  },
  {
   "cell_type": "code",
   "execution_count": null,
   "metadata": {},
   "outputs": [],
   "source": [
    "# === STEP 7: Create Labels ===\r\n",
    "# If member has a diabetes diagnosis in prediction window\r\n",
    "pred_claims = claims[claims['in_pred_window']]\r\n",
    "labels = pred_claims.groupby('member_id')['has_diabetes'].max().fillna(0).astype(int)"
   ]
  },
  {
   "cell_type": "code",
   "execution_count": null,
   "metadata": {},
   "outputs": [],
   "source": [
    "# === STEP 8: Train/Test Split ===\r\n",
    "X = features\r\n",
    "y = labels.reindex(features.index).fillna(0)\r\n",
    "\r\n",
    "X_train, X_test, y_train, y_test = train_test_split(X, y, stratify=y, test_size=0.2, random_state=42)"
   ]
  },
  {
   "cell_type": "code",
   "execution_count": null,
   "metadata": {},
   "outputs": [],
   "source": [
    "# === STEP 9: Train Model ===\r\n",
    "model = lgb.LGBMClassifier()\r\n",
    "model.fit(X_train, y_train)\r\n"
   ]
  },
  {
   "cell_type": "code",
   "execution_count": null,
   "metadata": {},
   "outputs": [],
   "source": [
    "# === STEP 10: Evaluate ===\r\n",
    "y_pred = model.predict_proba(X_test)[:, 1]\r\n",
    "print(\"ROC AUC:\", roc_auc_score(y_test, y_pred))\r\n",
    "print(classification_report(y_test, (y_pred > 0.5).astype(int)))"
   ]
  }
 ],
 "metadata": {
  "interpreter": {
   "hash": "63fd5069d213b44bf678585dea6b12cceca9941eaf7f819626cde1f2670de90d"
  },
  "kernelspec": {
   "display_name": "Python 3.9.5 64-bit",
   "name": "python3"
  },
  "language_info": {
   "name": "python",
   "version": ""
  },
  "orig_nbformat": 4
 },
 "nbformat": 4,
 "nbformat_minor": 2
}